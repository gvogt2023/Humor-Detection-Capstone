{
  "nbformat": 4,
  "nbformat_minor": 0,
  "metadata": {
    "colab": {
      "provenance": []
    },
    "kernelspec": {
      "name": "python3",
      "display_name": "Python 3"
    },
    "language_info": {
      "name": "python"
    }
  },
  "cells": [
    {
      "cell_type": "code",
      "execution_count": 2,
      "metadata": {
        "colab": {
          "base_uri": "https://localhost:8080/"
        },
        "id": "fIWPr47xMPBf",
        "outputId": "3e44f72f-1d15-4129-cbb7-c7ba166886a9"
      },
      "outputs": [
        {
          "output_type": "stream",
          "name": "stdout",
          "text": [
            "Mounted at /content/gdrive\n"
          ]
        }
      ],
      "source": [
        "import os\n",
        "from google.colab import drive\n",
        "\n",
        "# Mount Google Drive\n",
        "drive.mount('/content/gdrive')"
      ]
    },
    {
      "cell_type": "code",
      "source": [
        "from google.colab import drive\n",
        "drive.mount('/content/drive')"
      ],
      "metadata": {
        "colab": {
          "base_uri": "https://localhost:8080/"
        },
        "id": "NJ-Iqv8kQoki",
        "outputId": "41707dba-16fc-4316-bf91-64b08edf9092"
      },
      "execution_count": 3,
      "outputs": [
        {
          "output_type": "stream",
          "name": "stdout",
          "text": [
            "Mounted at /content/drive\n"
          ]
        }
      ]
    },
    {
      "cell_type": "code",
      "source": [
        "\n",
        "import pandas as pd\n",
        "data_dir = '/content/drive/MyDrive/Jokes-Capstone'\n",
        "jokes_df = pd.read_csv(os.path.join(data_dir, 'shortjokes.csv'), index_col=0)\n",
        "\n",
        "\n",
        "\n"
      ],
      "metadata": {
        "id": "Z5K88ReNMP2p"
      },
      "execution_count": 4,
      "outputs": []
    },
    {
      "cell_type": "code",
      "source": [
        "jokes_df.head(100)"
      ],
      "metadata": {
        "id": "rNGo7yyXOXCs",
        "colab": {
          "base_uri": "https://localhost:8080/",
          "height": 655
        },
        "outputId": "7ac00744-7f46-4f8e-c756-40b36617a584"
      },
      "execution_count": 5,
      "outputs": [
        {
          "output_type": "execute_result",
          "data": {
            "text/plain": [
              "                                                  Joke\n",
              "ID                                                    \n",
              "1    [me narrating a documentary about narrators] \"...\n",
              "2    Telling my daughter garlic is good for you. Go...\n",
              "3    I've been going through a really rough period ...\n",
              "4    If I could have dinner with anyone, dead or al...\n",
              "5       Two guys walk into a bar. The third guy ducks.\n",
              "..                                                 ...\n",
              "96   \"I'm so pissed I could punch a ba-\" \"A what?\" ...\n",
              "97   What's the difference Donald Trump and my Vagi...\n",
              "98   My doctor had to put me on a new medication th...\n",
              "99   [uses the restroom] Wife: make sure to put the...\n",
              "100  Q: What's the difference between a blonde and ...\n",
              "\n",
              "[100 rows x 1 columns]"
            ],
            "text/html": [
              "\n",
              "  <div id=\"df-7f0a4814-30ab-4e0d-a739-af4a013a0fa1\">\n",
              "    <div class=\"colab-df-container\">\n",
              "      <div>\n",
              "<style scoped>\n",
              "    .dataframe tbody tr th:only-of-type {\n",
              "        vertical-align: middle;\n",
              "    }\n",
              "\n",
              "    .dataframe tbody tr th {\n",
              "        vertical-align: top;\n",
              "    }\n",
              "\n",
              "    .dataframe thead th {\n",
              "        text-align: right;\n",
              "    }\n",
              "</style>\n",
              "<table border=\"1\" class=\"dataframe\">\n",
              "  <thead>\n",
              "    <tr style=\"text-align: right;\">\n",
              "      <th></th>\n",
              "      <th>Joke</th>\n",
              "    </tr>\n",
              "    <tr>\n",
              "      <th>ID</th>\n",
              "      <th></th>\n",
              "    </tr>\n",
              "  </thead>\n",
              "  <tbody>\n",
              "    <tr>\n",
              "      <th>1</th>\n",
              "      <td>[me narrating a documentary about narrators] \"...</td>\n",
              "    </tr>\n",
              "    <tr>\n",
              "      <th>2</th>\n",
              "      <td>Telling my daughter garlic is good for you. Go...</td>\n",
              "    </tr>\n",
              "    <tr>\n",
              "      <th>3</th>\n",
              "      <td>I've been going through a really rough period ...</td>\n",
              "    </tr>\n",
              "    <tr>\n",
              "      <th>4</th>\n",
              "      <td>If I could have dinner with anyone, dead or al...</td>\n",
              "    </tr>\n",
              "    <tr>\n",
              "      <th>5</th>\n",
              "      <td>Two guys walk into a bar. The third guy ducks.</td>\n",
              "    </tr>\n",
              "    <tr>\n",
              "      <th>...</th>\n",
              "      <td>...</td>\n",
              "    </tr>\n",
              "    <tr>\n",
              "      <th>96</th>\n",
              "      <td>\"I'm so pissed I could punch a ba-\" \"A what?\" ...</td>\n",
              "    </tr>\n",
              "    <tr>\n",
              "      <th>97</th>\n",
              "      <td>What's the difference Donald Trump and my Vagi...</td>\n",
              "    </tr>\n",
              "    <tr>\n",
              "      <th>98</th>\n",
              "      <td>My doctor had to put me on a new medication th...</td>\n",
              "    </tr>\n",
              "    <tr>\n",
              "      <th>99</th>\n",
              "      <td>[uses the restroom] Wife: make sure to put the...</td>\n",
              "    </tr>\n",
              "    <tr>\n",
              "      <th>100</th>\n",
              "      <td>Q: What's the difference between a blonde and ...</td>\n",
              "    </tr>\n",
              "  </tbody>\n",
              "</table>\n",
              "<p>100 rows × 1 columns</p>\n",
              "</div>\n",
              "      <button class=\"colab-df-convert\" onclick=\"convertToInteractive('df-7f0a4814-30ab-4e0d-a739-af4a013a0fa1')\"\n",
              "              title=\"Convert this dataframe to an interactive table.\"\n",
              "              style=\"display:none;\">\n",
              "        \n",
              "  <svg xmlns=\"http://www.w3.org/2000/svg\" height=\"24px\"viewBox=\"0 0 24 24\"\n",
              "       width=\"24px\">\n",
              "    <path d=\"M0 0h24v24H0V0z\" fill=\"none\"/>\n",
              "    <path d=\"M18.56 5.44l.94 2.06.94-2.06 2.06-.94-2.06-.94-.94-2.06-.94 2.06-2.06.94zm-11 1L8.5 8.5l.94-2.06 2.06-.94-2.06-.94L8.5 2.5l-.94 2.06-2.06.94zm10 10l.94 2.06.94-2.06 2.06-.94-2.06-.94-.94-2.06-.94 2.06-2.06.94z\"/><path d=\"M17.41 7.96l-1.37-1.37c-.4-.4-.92-.59-1.43-.59-.52 0-1.04.2-1.43.59L10.3 9.45l-7.72 7.72c-.78.78-.78 2.05 0 2.83L4 21.41c.39.39.9.59 1.41.59.51 0 1.02-.2 1.41-.59l7.78-7.78 2.81-2.81c.8-.78.8-2.07 0-2.86zM5.41 20L4 18.59l7.72-7.72 1.47 1.35L5.41 20z\"/>\n",
              "  </svg>\n",
              "      </button>\n",
              "      \n",
              "  <style>\n",
              "    .colab-df-container {\n",
              "      display:flex;\n",
              "      flex-wrap:wrap;\n",
              "      gap: 12px;\n",
              "    }\n",
              "\n",
              "    .colab-df-convert {\n",
              "      background-color: #E8F0FE;\n",
              "      border: none;\n",
              "      border-radius: 50%;\n",
              "      cursor: pointer;\n",
              "      display: none;\n",
              "      fill: #1967D2;\n",
              "      height: 32px;\n",
              "      padding: 0 0 0 0;\n",
              "      width: 32px;\n",
              "    }\n",
              "\n",
              "    .colab-df-convert:hover {\n",
              "      background-color: #E2EBFA;\n",
              "      box-shadow: 0px 1px 2px rgba(60, 64, 67, 0.3), 0px 1px 3px 1px rgba(60, 64, 67, 0.15);\n",
              "      fill: #174EA6;\n",
              "    }\n",
              "\n",
              "    [theme=dark] .colab-df-convert {\n",
              "      background-color: #3B4455;\n",
              "      fill: #D2E3FC;\n",
              "    }\n",
              "\n",
              "    [theme=dark] .colab-df-convert:hover {\n",
              "      background-color: #434B5C;\n",
              "      box-shadow: 0px 1px 3px 1px rgba(0, 0, 0, 0.15);\n",
              "      filter: drop-shadow(0px 1px 2px rgba(0, 0, 0, 0.3));\n",
              "      fill: #FFFFFF;\n",
              "    }\n",
              "  </style>\n",
              "\n",
              "      <script>\n",
              "        const buttonEl =\n",
              "          document.querySelector('#df-7f0a4814-30ab-4e0d-a739-af4a013a0fa1 button.colab-df-convert');\n",
              "        buttonEl.style.display =\n",
              "          google.colab.kernel.accessAllowed ? 'block' : 'none';\n",
              "\n",
              "        async function convertToInteractive(key) {\n",
              "          const element = document.querySelector('#df-7f0a4814-30ab-4e0d-a739-af4a013a0fa1');\n",
              "          const dataTable =\n",
              "            await google.colab.kernel.invokeFunction('convertToInteractive',\n",
              "                                                     [key], {});\n",
              "          if (!dataTable) return;\n",
              "\n",
              "          const docLinkHtml = 'Like what you see? Visit the ' +\n",
              "            '<a target=\"_blank\" href=https://colab.research.google.com/notebooks/data_table.ipynb>data table notebook</a>'\n",
              "            + ' to learn more about interactive tables.';\n",
              "          element.innerHTML = '';\n",
              "          dataTable['output_type'] = 'display_data';\n",
              "          await google.colab.output.renderOutput(dataTable, element);\n",
              "          const docLink = document.createElement('div');\n",
              "          docLink.innerHTML = docLinkHtml;\n",
              "          element.appendChild(docLink);\n",
              "        }\n",
              "      </script>\n",
              "    </div>\n",
              "  </div>\n",
              "  "
            ]
          },
          "metadata": {},
          "execution_count": 5
        }
      ]
    },
    {
      "cell_type": "code",
      "source": [
        "jokes_df.info()"
      ],
      "metadata": {
        "colab": {
          "base_uri": "https://localhost:8080/"
        },
        "id": "GwUeOmiwSfey",
        "outputId": "e6bbd0cd-8978-413b-87ed-99c67c3ba792"
      },
      "execution_count": 6,
      "outputs": [
        {
          "output_type": "stream",
          "name": "stdout",
          "text": [
            "<class 'pandas.core.frame.DataFrame'>\n",
            "Int64Index: 231657 entries, 1 to 231657\n",
            "Data columns (total 1 columns):\n",
            " #   Column  Non-Null Count   Dtype \n",
            "---  ------  --------------   ----- \n",
            " 0   Joke    231657 non-null  object\n",
            "dtypes: object(1)\n",
            "memory usage: 3.5+ MB\n"
          ]
        }
      ]
    },
    {
      "cell_type": "markdown",
      "source": [
        "231,657 different jokes in a dataframe with data type object and an index column."
      ],
      "metadata": {
        "id": "VGFUc3k-UCF0"
      }
    },
    {
      "cell_type": "code",
      "source": [
        "jokes_df.isnull().sum()"
      ],
      "metadata": {
        "colab": {
          "base_uri": "https://localhost:8080/"
        },
        "id": "tL9pen4oS7Dh",
        "outputId": "de3edee2-024f-4ffc-ea03-bd9280593e86"
      },
      "execution_count": 7,
      "outputs": [
        {
          "output_type": "execute_result",
          "data": {
            "text/plain": [
              "Joke    0\n",
              "dtype: int64"
            ]
          },
          "metadata": {},
          "execution_count": 7
        }
      ]
    },
    {
      "cell_type": "markdown",
      "source": [
        "No null values."
      ],
      "metadata": {
        "id": "eP0f_eJ6T-pz"
      }
    },
    {
      "cell_type": "code",
      "source": [
        "print(len(jokes_df['Joke'].unique()))"
      ],
      "metadata": {
        "colab": {
          "base_uri": "https://localhost:8080/"
        },
        "id": "l5K6foiES-MP",
        "outputId": "263653c0-a3e4-4bd2-d681-9a2bda1e5b14"
      },
      "execution_count": 8,
      "outputs": [
        {
          "output_type": "stream",
          "name": "stdout",
          "text": [
            "231657\n"
          ]
        }
      ]
    },
    {
      "cell_type": "markdown",
      "source": [
        "No duplicate jokes, so we proceed."
      ],
      "metadata": {
        "id": "-Fx1Gj2VTyn2"
      }
    },
    {
      "cell_type": "code",
      "source": [
        "import nltk\n",
        "from nltk.corpus import stopwords\n",
        "from string import punctuation\n",
        "\n",
        "# Download the stopwords corpus\n",
        "nltk.download('stopwords')\n",
        "\n",
        "# Define a function to preprocess the jokes\n",
        "def preprocess_jokes(jokes_df):\n",
        "    # Remove stopwords and punctuation\n",
        "    stop_words = set(stopwords.words('english'))\n",
        "    jokes_df['clean_joke'] = jokes_df['joke'].apply(lambda x: ' '.join([word.lower() for word in x.split() if (word not in stop_words) and (word not in punctuation)]))\n",
        "    return jokes_df\n"
      ],
      "metadata": {
        "colab": {
          "base_uri": "https://localhost:8080/"
        },
        "id": "U9mPBc2_T1mt",
        "outputId": "40f287b0-c550-47a2-cbef-a3b80dfc5f99"
      },
      "execution_count": 9,
      "outputs": [
        {
          "output_type": "stream",
          "name": "stderr",
          "text": [
            "[nltk_data] Downloading package stopwords to /root/nltk_data...\n",
            "[nltk_data]   Package stopwords is already up-to-date!\n"
          ]
        }
      ]
    },
    {
      "cell_type": "code",
      "source": [
        "jokes_df"
      ],
      "metadata": {
        "colab": {
          "base_uri": "https://localhost:8080/",
          "height": 455
        },
        "id": "EyhgppAGak3-",
        "outputId": "d3d3ada0-dcab-4b57-a65e-600d9b9aae06"
      },
      "execution_count": 10,
      "outputs": [
        {
          "output_type": "execute_result",
          "data": {
            "text/plain": [
              "                                                     Joke\n",
              "ID                                                       \n",
              "1       [me narrating a documentary about narrators] \"...\n",
              "2       Telling my daughter garlic is good for you. Go...\n",
              "3       I've been going through a really rough period ...\n",
              "4       If I could have dinner with anyone, dead or al...\n",
              "5          Two guys walk into a bar. The third guy ducks.\n",
              "...                                                   ...\n",
              "231653                The Spicy Sausage by Delia Katessen\n",
              "231654  TIL That I Shouldn't have gone to law school, ...\n",
              "231655  What did the RAM stick say to the politician? ...\n",
              "231656  what do you call a play about victorian era me...\n",
              "231657  Calculus should be taught in every high school...\n",
              "\n",
              "[231657 rows x 1 columns]"
            ],
            "text/html": [
              "\n",
              "  <div id=\"df-2f59bfb6-719b-4699-ae23-1ae8f8fdca62\">\n",
              "    <div class=\"colab-df-container\">\n",
              "      <div>\n",
              "<style scoped>\n",
              "    .dataframe tbody tr th:only-of-type {\n",
              "        vertical-align: middle;\n",
              "    }\n",
              "\n",
              "    .dataframe tbody tr th {\n",
              "        vertical-align: top;\n",
              "    }\n",
              "\n",
              "    .dataframe thead th {\n",
              "        text-align: right;\n",
              "    }\n",
              "</style>\n",
              "<table border=\"1\" class=\"dataframe\">\n",
              "  <thead>\n",
              "    <tr style=\"text-align: right;\">\n",
              "      <th></th>\n",
              "      <th>Joke</th>\n",
              "    </tr>\n",
              "    <tr>\n",
              "      <th>ID</th>\n",
              "      <th></th>\n",
              "    </tr>\n",
              "  </thead>\n",
              "  <tbody>\n",
              "    <tr>\n",
              "      <th>1</th>\n",
              "      <td>[me narrating a documentary about narrators] \"...</td>\n",
              "    </tr>\n",
              "    <tr>\n",
              "      <th>2</th>\n",
              "      <td>Telling my daughter garlic is good for you. Go...</td>\n",
              "    </tr>\n",
              "    <tr>\n",
              "      <th>3</th>\n",
              "      <td>I've been going through a really rough period ...</td>\n",
              "    </tr>\n",
              "    <tr>\n",
              "      <th>4</th>\n",
              "      <td>If I could have dinner with anyone, dead or al...</td>\n",
              "    </tr>\n",
              "    <tr>\n",
              "      <th>5</th>\n",
              "      <td>Two guys walk into a bar. The third guy ducks.</td>\n",
              "    </tr>\n",
              "    <tr>\n",
              "      <th>...</th>\n",
              "      <td>...</td>\n",
              "    </tr>\n",
              "    <tr>\n",
              "      <th>231653</th>\n",
              "      <td>The Spicy Sausage by Delia Katessen</td>\n",
              "    </tr>\n",
              "    <tr>\n",
              "      <th>231654</th>\n",
              "      <td>TIL That I Shouldn't have gone to law school, ...</td>\n",
              "    </tr>\n",
              "    <tr>\n",
              "      <th>231655</th>\n",
              "      <td>What did the RAM stick say to the politician? ...</td>\n",
              "    </tr>\n",
              "    <tr>\n",
              "      <th>231656</th>\n",
              "      <td>what do you call a play about victorian era me...</td>\n",
              "    </tr>\n",
              "    <tr>\n",
              "      <th>231657</th>\n",
              "      <td>Calculus should be taught in every high school...</td>\n",
              "    </tr>\n",
              "  </tbody>\n",
              "</table>\n",
              "<p>231657 rows × 1 columns</p>\n",
              "</div>\n",
              "      <button class=\"colab-df-convert\" onclick=\"convertToInteractive('df-2f59bfb6-719b-4699-ae23-1ae8f8fdca62')\"\n",
              "              title=\"Convert this dataframe to an interactive table.\"\n",
              "              style=\"display:none;\">\n",
              "        \n",
              "  <svg xmlns=\"http://www.w3.org/2000/svg\" height=\"24px\"viewBox=\"0 0 24 24\"\n",
              "       width=\"24px\">\n",
              "    <path d=\"M0 0h24v24H0V0z\" fill=\"none\"/>\n",
              "    <path d=\"M18.56 5.44l.94 2.06.94-2.06 2.06-.94-2.06-.94-.94-2.06-.94 2.06-2.06.94zm-11 1L8.5 8.5l.94-2.06 2.06-.94-2.06-.94L8.5 2.5l-.94 2.06-2.06.94zm10 10l.94 2.06.94-2.06 2.06-.94-2.06-.94-.94-2.06-.94 2.06-2.06.94z\"/><path d=\"M17.41 7.96l-1.37-1.37c-.4-.4-.92-.59-1.43-.59-.52 0-1.04.2-1.43.59L10.3 9.45l-7.72 7.72c-.78.78-.78 2.05 0 2.83L4 21.41c.39.39.9.59 1.41.59.51 0 1.02-.2 1.41-.59l7.78-7.78 2.81-2.81c.8-.78.8-2.07 0-2.86zM5.41 20L4 18.59l7.72-7.72 1.47 1.35L5.41 20z\"/>\n",
              "  </svg>\n",
              "      </button>\n",
              "      \n",
              "  <style>\n",
              "    .colab-df-container {\n",
              "      display:flex;\n",
              "      flex-wrap:wrap;\n",
              "      gap: 12px;\n",
              "    }\n",
              "\n",
              "    .colab-df-convert {\n",
              "      background-color: #E8F0FE;\n",
              "      border: none;\n",
              "      border-radius: 50%;\n",
              "      cursor: pointer;\n",
              "      display: none;\n",
              "      fill: #1967D2;\n",
              "      height: 32px;\n",
              "      padding: 0 0 0 0;\n",
              "      width: 32px;\n",
              "    }\n",
              "\n",
              "    .colab-df-convert:hover {\n",
              "      background-color: #E2EBFA;\n",
              "      box-shadow: 0px 1px 2px rgba(60, 64, 67, 0.3), 0px 1px 3px 1px rgba(60, 64, 67, 0.15);\n",
              "      fill: #174EA6;\n",
              "    }\n",
              "\n",
              "    [theme=dark] .colab-df-convert {\n",
              "      background-color: #3B4455;\n",
              "      fill: #D2E3FC;\n",
              "    }\n",
              "\n",
              "    [theme=dark] .colab-df-convert:hover {\n",
              "      background-color: #434B5C;\n",
              "      box-shadow: 0px 1px 3px 1px rgba(0, 0, 0, 0.15);\n",
              "      filter: drop-shadow(0px 1px 2px rgba(0, 0, 0, 0.3));\n",
              "      fill: #FFFFFF;\n",
              "    }\n",
              "  </style>\n",
              "\n",
              "      <script>\n",
              "        const buttonEl =\n",
              "          document.querySelector('#df-2f59bfb6-719b-4699-ae23-1ae8f8fdca62 button.colab-df-convert');\n",
              "        buttonEl.style.display =\n",
              "          google.colab.kernel.accessAllowed ? 'block' : 'none';\n",
              "\n",
              "        async function convertToInteractive(key) {\n",
              "          const element = document.querySelector('#df-2f59bfb6-719b-4699-ae23-1ae8f8fdca62');\n",
              "          const dataTable =\n",
              "            await google.colab.kernel.invokeFunction('convertToInteractive',\n",
              "                                                     [key], {});\n",
              "          if (!dataTable) return;\n",
              "\n",
              "          const docLinkHtml = 'Like what you see? Visit the ' +\n",
              "            '<a target=\"_blank\" href=https://colab.research.google.com/notebooks/data_table.ipynb>data table notebook</a>'\n",
              "            + ' to learn more about interactive tables.';\n",
              "          element.innerHTML = '';\n",
              "          dataTable['output_type'] = 'display_data';\n",
              "          await google.colab.output.renderOutput(dataTable, element);\n",
              "          const docLink = document.createElement('div');\n",
              "          docLink.innerHTML = docLinkHtml;\n",
              "          element.appendChild(docLink);\n",
              "        }\n",
              "      </script>\n",
              "    </div>\n",
              "  </div>\n",
              "  "
            ]
          },
          "metadata": {},
          "execution_count": 10
        }
      ]
    },
    {
      "cell_type": "code",
      "source": [
        "import nltk\n",
        "from nltk.corpus import stopwords\n",
        "import string\n",
        "\n",
        "# Download the stopwords corpus\n",
        "nltk.download('stopwords')\n",
        "\n",
        "# Define a function to preprocess the jokes\n",
        "def preprocess_jokes(jokes_df):\n",
        "    # Remove stopwords and punctuation\n",
        "    stop_words = set(stopwords.words('english'))\n",
        "    jokes_df['Clean_joke'] = jokes_df['Joke'].apply(lambda x: ' '.join([word.lower() for word in x.split() if (word.lower() not in stop_words) and (word.lower() not in string.punctuation)]))\n",
        "    return jokes_df\n",
        "\n",
        "preprocess_jokes(jokes_df)\n"
      ],
      "metadata": {
        "colab": {
          "base_uri": "https://localhost:8080/",
          "height": 490
        },
        "id": "b34_lfuQsi7P",
        "outputId": "f6f6a594-3fba-415d-8dea-d04b9e8f1c25"
      },
      "execution_count": 11,
      "outputs": [
        {
          "output_type": "stream",
          "name": "stderr",
          "text": [
            "[nltk_data] Downloading package stopwords to /root/nltk_data...\n",
            "[nltk_data]   Package stopwords is already up-to-date!\n"
          ]
        },
        {
          "output_type": "execute_result",
          "data": {
            "text/plain": [
              "                                                     Joke  \\\n",
              "ID                                                          \n",
              "1       [me narrating a documentary about narrators] \"...   \n",
              "2       Telling my daughter garlic is good for you. Go...   \n",
              "3       I've been going through a really rough period ...   \n",
              "4       If I could have dinner with anyone, dead or al...   \n",
              "5          Two guys walk into a bar. The third guy ducks.   \n",
              "...                                                   ...   \n",
              "231653                The Spicy Sausage by Delia Katessen   \n",
              "231654  TIL That I Shouldn't have gone to law school, ...   \n",
              "231655  What did the RAM stick say to the politician? ...   \n",
              "231656  what do you call a play about victorian era me...   \n",
              "231657  Calculus should be taught in every high school...   \n",
              "\n",
              "                                               Clean_joke  \n",
              "ID                                                         \n",
              "1       [me narrating documentary narrators] \"i can't ...  \n",
              "2       telling daughter garlic good you. good immune ...  \n",
              "3       i've going really rough period work week fault...  \n",
              "4       could dinner anyone, dead alive... ...i would ...  \n",
              "5                     two guys walk bar. third guy ducks.  \n",
              "...                                                   ...  \n",
              "231653                       spicy sausage delia katessen  \n",
              "231654  til gone law school, everyone /r/news already ...  \n",
              "231655                 ram stick say politician? i'm pc2!  \n",
              "231656  call play victorian era menstruation? period p...  \n",
              "231657  calculus taught every high school around world...  \n",
              "\n",
              "[231657 rows x 2 columns]"
            ],
            "text/html": [
              "\n",
              "  <div id=\"df-35fbf57b-4a05-4d9e-8614-81feb0d955cb\">\n",
              "    <div class=\"colab-df-container\">\n",
              "      <div>\n",
              "<style scoped>\n",
              "    .dataframe tbody tr th:only-of-type {\n",
              "        vertical-align: middle;\n",
              "    }\n",
              "\n",
              "    .dataframe tbody tr th {\n",
              "        vertical-align: top;\n",
              "    }\n",
              "\n",
              "    .dataframe thead th {\n",
              "        text-align: right;\n",
              "    }\n",
              "</style>\n",
              "<table border=\"1\" class=\"dataframe\">\n",
              "  <thead>\n",
              "    <tr style=\"text-align: right;\">\n",
              "      <th></th>\n",
              "      <th>Joke</th>\n",
              "      <th>Clean_joke</th>\n",
              "    </tr>\n",
              "    <tr>\n",
              "      <th>ID</th>\n",
              "      <th></th>\n",
              "      <th></th>\n",
              "    </tr>\n",
              "  </thead>\n",
              "  <tbody>\n",
              "    <tr>\n",
              "      <th>1</th>\n",
              "      <td>[me narrating a documentary about narrators] \"...</td>\n",
              "      <td>[me narrating documentary narrators] \"i can't ...</td>\n",
              "    </tr>\n",
              "    <tr>\n",
              "      <th>2</th>\n",
              "      <td>Telling my daughter garlic is good for you. Go...</td>\n",
              "      <td>telling daughter garlic good you. good immune ...</td>\n",
              "    </tr>\n",
              "    <tr>\n",
              "      <th>3</th>\n",
              "      <td>I've been going through a really rough period ...</td>\n",
              "      <td>i've going really rough period work week fault...</td>\n",
              "    </tr>\n",
              "    <tr>\n",
              "      <th>4</th>\n",
              "      <td>If I could have dinner with anyone, dead or al...</td>\n",
              "      <td>could dinner anyone, dead alive... ...i would ...</td>\n",
              "    </tr>\n",
              "    <tr>\n",
              "      <th>5</th>\n",
              "      <td>Two guys walk into a bar. The third guy ducks.</td>\n",
              "      <td>two guys walk bar. third guy ducks.</td>\n",
              "    </tr>\n",
              "    <tr>\n",
              "      <th>...</th>\n",
              "      <td>...</td>\n",
              "      <td>...</td>\n",
              "    </tr>\n",
              "    <tr>\n",
              "      <th>231653</th>\n",
              "      <td>The Spicy Sausage by Delia Katessen</td>\n",
              "      <td>spicy sausage delia katessen</td>\n",
              "    </tr>\n",
              "    <tr>\n",
              "      <th>231654</th>\n",
              "      <td>TIL That I Shouldn't have gone to law school, ...</td>\n",
              "      <td>til gone law school, everyone /r/news already ...</td>\n",
              "    </tr>\n",
              "    <tr>\n",
              "      <th>231655</th>\n",
              "      <td>What did the RAM stick say to the politician? ...</td>\n",
              "      <td>ram stick say politician? i'm pc2!</td>\n",
              "    </tr>\n",
              "    <tr>\n",
              "      <th>231656</th>\n",
              "      <td>what do you call a play about victorian era me...</td>\n",
              "      <td>call play victorian era menstruation? period p...</td>\n",
              "    </tr>\n",
              "    <tr>\n",
              "      <th>231657</th>\n",
              "      <td>Calculus should be taught in every high school...</td>\n",
              "      <td>calculus taught every high school around world...</td>\n",
              "    </tr>\n",
              "  </tbody>\n",
              "</table>\n",
              "<p>231657 rows × 2 columns</p>\n",
              "</div>\n",
              "      <button class=\"colab-df-convert\" onclick=\"convertToInteractive('df-35fbf57b-4a05-4d9e-8614-81feb0d955cb')\"\n",
              "              title=\"Convert this dataframe to an interactive table.\"\n",
              "              style=\"display:none;\">\n",
              "        \n",
              "  <svg xmlns=\"http://www.w3.org/2000/svg\" height=\"24px\"viewBox=\"0 0 24 24\"\n",
              "       width=\"24px\">\n",
              "    <path d=\"M0 0h24v24H0V0z\" fill=\"none\"/>\n",
              "    <path d=\"M18.56 5.44l.94 2.06.94-2.06 2.06-.94-2.06-.94-.94-2.06-.94 2.06-2.06.94zm-11 1L8.5 8.5l.94-2.06 2.06-.94-2.06-.94L8.5 2.5l-.94 2.06-2.06.94zm10 10l.94 2.06.94-2.06 2.06-.94-2.06-.94-.94-2.06-.94 2.06-2.06.94z\"/><path d=\"M17.41 7.96l-1.37-1.37c-.4-.4-.92-.59-1.43-.59-.52 0-1.04.2-1.43.59L10.3 9.45l-7.72 7.72c-.78.78-.78 2.05 0 2.83L4 21.41c.39.39.9.59 1.41.59.51 0 1.02-.2 1.41-.59l7.78-7.78 2.81-2.81c.8-.78.8-2.07 0-2.86zM5.41 20L4 18.59l7.72-7.72 1.47 1.35L5.41 20z\"/>\n",
              "  </svg>\n",
              "      </button>\n",
              "      \n",
              "  <style>\n",
              "    .colab-df-container {\n",
              "      display:flex;\n",
              "      flex-wrap:wrap;\n",
              "      gap: 12px;\n",
              "    }\n",
              "\n",
              "    .colab-df-convert {\n",
              "      background-color: #E8F0FE;\n",
              "      border: none;\n",
              "      border-radius: 50%;\n",
              "      cursor: pointer;\n",
              "      display: none;\n",
              "      fill: #1967D2;\n",
              "      height: 32px;\n",
              "      padding: 0 0 0 0;\n",
              "      width: 32px;\n",
              "    }\n",
              "\n",
              "    .colab-df-convert:hover {\n",
              "      background-color: #E2EBFA;\n",
              "      box-shadow: 0px 1px 2px rgba(60, 64, 67, 0.3), 0px 1px 3px 1px rgba(60, 64, 67, 0.15);\n",
              "      fill: #174EA6;\n",
              "    }\n",
              "\n",
              "    [theme=dark] .colab-df-convert {\n",
              "      background-color: #3B4455;\n",
              "      fill: #D2E3FC;\n",
              "    }\n",
              "\n",
              "    [theme=dark] .colab-df-convert:hover {\n",
              "      background-color: #434B5C;\n",
              "      box-shadow: 0px 1px 3px 1px rgba(0, 0, 0, 0.15);\n",
              "      filter: drop-shadow(0px 1px 2px rgba(0, 0, 0, 0.3));\n",
              "      fill: #FFFFFF;\n",
              "    }\n",
              "  </style>\n",
              "\n",
              "      <script>\n",
              "        const buttonEl =\n",
              "          document.querySelector('#df-35fbf57b-4a05-4d9e-8614-81feb0d955cb button.colab-df-convert');\n",
              "        buttonEl.style.display =\n",
              "          google.colab.kernel.accessAllowed ? 'block' : 'none';\n",
              "\n",
              "        async function convertToInteractive(key) {\n",
              "          const element = document.querySelector('#df-35fbf57b-4a05-4d9e-8614-81feb0d955cb');\n",
              "          const dataTable =\n",
              "            await google.colab.kernel.invokeFunction('convertToInteractive',\n",
              "                                                     [key], {});\n",
              "          if (!dataTable) return;\n",
              "\n",
              "          const docLinkHtml = 'Like what you see? Visit the ' +\n",
              "            '<a target=\"_blank\" href=https://colab.research.google.com/notebooks/data_table.ipynb>data table notebook</a>'\n",
              "            + ' to learn more about interactive tables.';\n",
              "          element.innerHTML = '';\n",
              "          dataTable['output_type'] = 'display_data';\n",
              "          await google.colab.output.renderOutput(dataTable, element);\n",
              "          const docLink = document.createElement('div');\n",
              "          docLink.innerHTML = docLinkHtml;\n",
              "          element.appendChild(docLink);\n",
              "        }\n",
              "      </script>\n",
              "    </div>\n",
              "  </div>\n",
              "  "
            ]
          },
          "metadata": {},
          "execution_count": 11
        }
      ]
    },
    {
      "cell_type": "code",
      "source": [
        "import nltk\n",
        "from nltk.corpus import stopwords\n",
        "import string\n",
        "import re\n",
        "\n",
        "# Download the stopwords corpus\n",
        "nltk.download('stopwords')\n",
        "\n",
        "# Define a function to preprocess the jokes\n",
        "def preprocess_jokes(jokes_df):\n",
        "    # Remove stopwords and punctuation\n",
        "    stop_words = set(stopwords.words('english'))\n",
        "    jokes_df['Clean_joke'] = jokes_df['Joke'].apply(lambda x: ' '.join([word.lower() for word in x.split() if (word.lower() not in stop_words) and (word.lower() not in string.punctuation)]))\n",
        "    return jokes_df\n",
        "\n",
        "# Define a function to remove punctuation\n",
        "def remove_punctuation(text):\n",
        "    # Define the regular expression pattern to match any punctuation character\n",
        "    pattern = r'[^\\w\\s]'\n",
        "\n",
        "    # Use the sub() function to replace any matches with an empty string\n",
        "    cleaned_text = re.sub(pattern, '', text)\n",
        "    return cleaned_text\n",
        "\n",
        "# Preprocess the jokes\n",
        "preprocess_jokes(jokes_df)\n",
        "\n",
        "# Apply the remove_punctuation function to the Clean_joke column\n",
        "jokes_df['Clean_joke'] = jokes_df['Clean_joke'].apply(remove_punctuation)\n"
      ],
      "metadata": {
        "colab": {
          "base_uri": "https://localhost:8080/"
        },
        "id": "3Z_WkU3Wu8cK",
        "outputId": "075ffb61-28e7-4c5f-cac2-1f16dda25b17"
      },
      "execution_count": 12,
      "outputs": [
        {
          "output_type": "stream",
          "name": "stderr",
          "text": [
            "[nltk_data] Downloading package stopwords to /root/nltk_data...\n",
            "[nltk_data]   Package stopwords is already up-to-date!\n"
          ]
        }
      ]
    },
    {
      "cell_type": "code",
      "source": [
        "jokes_df.head()"
      ],
      "metadata": {
        "colab": {
          "base_uri": "https://localhost:8080/",
          "height": 238
        },
        "id": "VlhDQlaAvNHb",
        "outputId": "ab7449c7-54f3-4742-f23e-1d44944a168e"
      },
      "execution_count": 13,
      "outputs": [
        {
          "output_type": "execute_result",
          "data": {
            "text/plain": [
              "                                                 Joke  \\\n",
              "ID                                                      \n",
              "1   [me narrating a documentary about narrators] \"...   \n",
              "2   Telling my daughter garlic is good for you. Go...   \n",
              "3   I've been going through a really rough period ...   \n",
              "4   If I could have dinner with anyone, dead or al...   \n",
              "5      Two guys walk into a bar. The third guy ducks.   \n",
              "\n",
              "                                           Clean_joke  \n",
              "ID                                                     \n",
              "1   me narrating documentary narrators i cant hear...  \n",
              "2   telling daughter garlic good you good immune s...  \n",
              "3   ive going really rough period work week fault ...  \n",
              "4   could dinner anyone dead alive i would choose ...  \n",
              "5                   two guys walk bar third guy ducks  "
            ],
            "text/html": [
              "\n",
              "  <div id=\"df-86bb486e-0de8-4d9e-bf3b-22e8fba0f162\">\n",
              "    <div class=\"colab-df-container\">\n",
              "      <div>\n",
              "<style scoped>\n",
              "    .dataframe tbody tr th:only-of-type {\n",
              "        vertical-align: middle;\n",
              "    }\n",
              "\n",
              "    .dataframe tbody tr th {\n",
              "        vertical-align: top;\n",
              "    }\n",
              "\n",
              "    .dataframe thead th {\n",
              "        text-align: right;\n",
              "    }\n",
              "</style>\n",
              "<table border=\"1\" class=\"dataframe\">\n",
              "  <thead>\n",
              "    <tr style=\"text-align: right;\">\n",
              "      <th></th>\n",
              "      <th>Joke</th>\n",
              "      <th>Clean_joke</th>\n",
              "    </tr>\n",
              "    <tr>\n",
              "      <th>ID</th>\n",
              "      <th></th>\n",
              "      <th></th>\n",
              "    </tr>\n",
              "  </thead>\n",
              "  <tbody>\n",
              "    <tr>\n",
              "      <th>1</th>\n",
              "      <td>[me narrating a documentary about narrators] \"...</td>\n",
              "      <td>me narrating documentary narrators i cant hear...</td>\n",
              "    </tr>\n",
              "    <tr>\n",
              "      <th>2</th>\n",
              "      <td>Telling my daughter garlic is good for you. Go...</td>\n",
              "      <td>telling daughter garlic good you good immune s...</td>\n",
              "    </tr>\n",
              "    <tr>\n",
              "      <th>3</th>\n",
              "      <td>I've been going through a really rough period ...</td>\n",
              "      <td>ive going really rough period work week fault ...</td>\n",
              "    </tr>\n",
              "    <tr>\n",
              "      <th>4</th>\n",
              "      <td>If I could have dinner with anyone, dead or al...</td>\n",
              "      <td>could dinner anyone dead alive i would choose ...</td>\n",
              "    </tr>\n",
              "    <tr>\n",
              "      <th>5</th>\n",
              "      <td>Two guys walk into a bar. The third guy ducks.</td>\n",
              "      <td>two guys walk bar third guy ducks</td>\n",
              "    </tr>\n",
              "  </tbody>\n",
              "</table>\n",
              "</div>\n",
              "      <button class=\"colab-df-convert\" onclick=\"convertToInteractive('df-86bb486e-0de8-4d9e-bf3b-22e8fba0f162')\"\n",
              "              title=\"Convert this dataframe to an interactive table.\"\n",
              "              style=\"display:none;\">\n",
              "        \n",
              "  <svg xmlns=\"http://www.w3.org/2000/svg\" height=\"24px\"viewBox=\"0 0 24 24\"\n",
              "       width=\"24px\">\n",
              "    <path d=\"M0 0h24v24H0V0z\" fill=\"none\"/>\n",
              "    <path d=\"M18.56 5.44l.94 2.06.94-2.06 2.06-.94-2.06-.94-.94-2.06-.94 2.06-2.06.94zm-11 1L8.5 8.5l.94-2.06 2.06-.94-2.06-.94L8.5 2.5l-.94 2.06-2.06.94zm10 10l.94 2.06.94-2.06 2.06-.94-2.06-.94-.94-2.06-.94 2.06-2.06.94z\"/><path d=\"M17.41 7.96l-1.37-1.37c-.4-.4-.92-.59-1.43-.59-.52 0-1.04.2-1.43.59L10.3 9.45l-7.72 7.72c-.78.78-.78 2.05 0 2.83L4 21.41c.39.39.9.59 1.41.59.51 0 1.02-.2 1.41-.59l7.78-7.78 2.81-2.81c.8-.78.8-2.07 0-2.86zM5.41 20L4 18.59l7.72-7.72 1.47 1.35L5.41 20z\"/>\n",
              "  </svg>\n",
              "      </button>\n",
              "      \n",
              "  <style>\n",
              "    .colab-df-container {\n",
              "      display:flex;\n",
              "      flex-wrap:wrap;\n",
              "      gap: 12px;\n",
              "    }\n",
              "\n",
              "    .colab-df-convert {\n",
              "      background-color: #E8F0FE;\n",
              "      border: none;\n",
              "      border-radius: 50%;\n",
              "      cursor: pointer;\n",
              "      display: none;\n",
              "      fill: #1967D2;\n",
              "      height: 32px;\n",
              "      padding: 0 0 0 0;\n",
              "      width: 32px;\n",
              "    }\n",
              "\n",
              "    .colab-df-convert:hover {\n",
              "      background-color: #E2EBFA;\n",
              "      box-shadow: 0px 1px 2px rgba(60, 64, 67, 0.3), 0px 1px 3px 1px rgba(60, 64, 67, 0.15);\n",
              "      fill: #174EA6;\n",
              "    }\n",
              "\n",
              "    [theme=dark] .colab-df-convert {\n",
              "      background-color: #3B4455;\n",
              "      fill: #D2E3FC;\n",
              "    }\n",
              "\n",
              "    [theme=dark] .colab-df-convert:hover {\n",
              "      background-color: #434B5C;\n",
              "      box-shadow: 0px 1px 3px 1px rgba(0, 0, 0, 0.15);\n",
              "      filter: drop-shadow(0px 1px 2px rgba(0, 0, 0, 0.3));\n",
              "      fill: #FFFFFF;\n",
              "    }\n",
              "  </style>\n",
              "\n",
              "      <script>\n",
              "        const buttonEl =\n",
              "          document.querySelector('#df-86bb486e-0de8-4d9e-bf3b-22e8fba0f162 button.colab-df-convert');\n",
              "        buttonEl.style.display =\n",
              "          google.colab.kernel.accessAllowed ? 'block' : 'none';\n",
              "\n",
              "        async function convertToInteractive(key) {\n",
              "          const element = document.querySelector('#df-86bb486e-0de8-4d9e-bf3b-22e8fba0f162');\n",
              "          const dataTable =\n",
              "            await google.colab.kernel.invokeFunction('convertToInteractive',\n",
              "                                                     [key], {});\n",
              "          if (!dataTable) return;\n",
              "\n",
              "          const docLinkHtml = 'Like what you see? Visit the ' +\n",
              "            '<a target=\"_blank\" href=https://colab.research.google.com/notebooks/data_table.ipynb>data table notebook</a>'\n",
              "            + ' to learn more about interactive tables.';\n",
              "          element.innerHTML = '';\n",
              "          dataTable['output_type'] = 'display_data';\n",
              "          await google.colab.output.renderOutput(dataTable, element);\n",
              "          const docLink = document.createElement('div');\n",
              "          docLink.innerHTML = docLinkHtml;\n",
              "          element.appendChild(docLink);\n",
              "        }\n",
              "      </script>\n",
              "    </div>\n",
              "  </div>\n",
              "  "
            ]
          },
          "metadata": {},
          "execution_count": 13
        }
      ]
    },
    {
      "cell_type": "code",
      "source": [
        "\n",
        "import pandas as pd\n",
        "import matplotlib.pyplot as plt\n",
        "import seaborn as sns\n",
        "\n",
        "# Visualize the distribution of joke lengths\n",
        "jokes_df['Joke_length'] = jokes_df['Joke'].apply(lambda x: len(x))\n",
        "sns.histplot(data=jokes_df, x='Joke_length', bins=20)\n",
        "plt.title('Distribution of Joke Lengths')\n",
        "plt.show()\n",
        "\n",
        "# Visualize the most common words in the jokes\n",
        "from collections import Counter\n",
        "from wordcloud import WordCloud\n",
        "\n",
        "all_jokes = ' '.join(jokes_df['Clean_joke'])\n",
        "word_counts = Counter(all_jokes.split())\n",
        "wordcloud = WordCloud(background_color='white').generate_from_frequencies(word_counts)\n",
        "plt.imshow(wordcloud, interpolation='bilinear')\n",
        "plt.axis('off')\n",
        "plt.title('Most Common Words in Jokes')\n",
        "plt.show()\n"
      ],
      "metadata": {
        "colab": {
          "base_uri": "https://localhost:8080/",
          "height": 762
        },
        "id": "CG-zt7tivO_s",
        "outputId": "4a618ef8-50cf-4b8a-8f38-30f5ab125571"
      },
      "execution_count": 14,
      "outputs": [
        {
          "output_type": "display_data",
          "data": {
            "text/plain": [
              "<Figure size 640x480 with 1 Axes>"
            ],
            "image/png": "[encoded data removed]"
          },
          "metadata": {}
        },
        {
          "output_type": "display_data",
          "data": {
            "text/plain": [
              "<Figure size 640x480 with 1 Axes>"
            ],
            "image/png": "[encoded data removed]"
          },
          "metadata": {}
        }
      ]
    },
    {
      "cell_type": "code",
      "source": [
        "import tensorflow as tf\n",
        "import tensorflow_hub as hub\n",
        "\n",
        "# Load the model from TensorFlow Hub\n",
        "module_url = \"https://tfhub.dev/google/universal-sentence-encoder-large/5\"\n",
        "model = hub.load(module_url)\n"
      ],
      "metadata": {
        "id": "_JxneDC9wWbQ"
      },
      "execution_count": 15,
      "outputs": []
    },
    {
      "cell_type": "code",
      "source": [
        "# Define batch size\n",
        "BATCH_SIZE = 1000\n",
        "\n",
        "# Initialize empty list to store encoded joke vectors\n",
        "joke_vectors_list = []\n",
        "\n",
        "# Encode jokes in batches\n",
        "for i in range(0, len(jokes_df), BATCH_SIZE):\n",
        "    # Get a batch of jokes\n",
        "    batch_jokes = jokes_df[\"Clean_joke\"][i:i+BATCH_SIZE]\n",
        "    \n",
        "    # Encode the batch of jokes into vectors\n",
        "    batch_vectors = model(batch_jokes).numpy()\n",
        "    \n",
        "    # Append the batch of vectors to the list\n",
        "    joke_vectors_list.append(batch_vectors)\n",
        "\n"
      ],
      "metadata": {
        "id": "UAdoL4p4yNZ6"
      },
      "execution_count": 16,
      "outputs": []
    },
    {
      "cell_type": "code",
      "source": [
        "import numpy as np\n",
        "\n",
        "    \n",
        "# Concatenate the list of vectors into a single numpy array\n",
        "joke_vectors_array = np.concatenate(joke_vectors_list)\n",
        "\n",
        "# Print the shape of the joke vectors array\n",
        "print(joke_vectors_array.shape)"
      ],
      "metadata": {
        "colab": {
          "base_uri": "https://localhost:8080/"
        },
        "id": "UrudaAK_0jqa",
        "outputId": "7a990ed0-377e-44c4-b8e4-100097a6f358"
      },
      "execution_count": 17,
      "outputs": [
        {
          "output_type": "stream",
          "name": "stdout",
          "text": [
            "(231657, 512)\n"
          ]
        }
      ]
    },
    {
      "cell_type": "code",
      "source": [
        "print(joke_vectors_array[:10])\n"
      ],
      "metadata": {
        "colab": {
          "base_uri": "https://localhost:8080/"
        },
        "id": "bBU0YNNeBqqC",
        "outputId": "d43d3eb5-16b8-4e2b-d079-2865fac0751b"
      },
      "execution_count": 18,
      "outputs": [
        {
          "output_type": "stream",
          "name": "stdout",
          "text": [
            "[[-0.06959648 -0.06135999  0.03546348 ...  0.10761742  0.03420946\n",
            "   0.02979377]\n",
            " [ 0.04970615 -0.09810194 -0.01489404 ... -0.00535393  0.0539768\n",
            "   0.00169285]\n",
            " [-0.03812822  0.0561557   0.09856173 ...  0.04292598  0.05723801\n",
            "  -0.01302059]\n",
            " ...\n",
            " [-0.05369511 -0.07612789 -0.05785532 ...  0.02808295  0.02137803\n",
            "   0.02504687]\n",
            " [ 0.00333218 -0.10896594 -0.00387303 ... -0.03629857  0.01542616\n",
            "   0.00390634]\n",
            " [ 0.07991975 -0.02713024 -0.01019163 ...  0.02487558  0.0324313\n",
            "   0.03553092]]\n"
          ]
        }
      ]
    },
    {
      "cell_type": "code",
      "source": [
        "from sklearn.metrics.pairwise import cosine_similarity\n",
        "\n",
        "batch_size = 1000\n",
        "\n",
        "similarity_matrix = None\n",
        "\n",
        "# Compute the pairwise cosine similarity between all joke vectors in batches\n",
        "for i in range(0, len(joke_vectors_array), batch_size):\n",
        "    batch_vectors = joke_vectors_array[i:i+batch_size]\n",
        "    if len(batch_vectors) < batch_size:  # pad the last batch if necessary\n",
        "        num_padding_rows = batch_size - len(batch_vectors)\n",
        "        padding_vectors = np.zeros((num_padding_rows, joke_vectors_array.shape[1]))\n",
        "        batch_vectors = np.concatenate([batch_vectors, padding_vectors], axis=0)\n",
        "    if similarity_matrix is None:\n",
        "        similarity_matrix = cosine_similarity(batch_vectors)\n",
        "    else:\n",
        "        similarity_matrix = np.concatenate(\n",
        "            [similarity_matrix, cosine_similarity(batch_vectors)], axis=0)\n",
        "\n",
        "# Print the shape of the similarity matrix\n",
        "print(similarity_matrix.shape)\n"
      ],
      "metadata": {
        "colab": {
          "base_uri": "https://localhost:8080/"
        },
        "id": "U2WQBRRwBuiC",
        "outputId": "06b694fc-4a8f-41fb-e993-93b20898bdd4"
      },
      "execution_count": 20,
      "outputs": [
        {
          "output_type": "stream",
          "name": "stdout",
          "text": [
            "(232000, 1000)\n"
          ]
        }
      ]
    },
    {
      "cell_type": "code",
      "source": [
        "import tensorflow_hub as hub\n",
        "\n",
        "# Load the Universal Sentence Encoder model from TensorFlow Hub\n",
        "embed = hub.load(\"https://tfhub.dev/google/universal-sentence-encoder-large/5\")"
      ],
      "metadata": {
        "id": "QF3juMudPbCb"
      },
      "execution_count": 23,
      "outputs": []
    },
    {
      "cell_type": "code",
      "source": [
        "# Given a user's input, encode it into a vector representation using the same Universal Sentence Encoder model.\n",
        "user_input = input(\"Enter a sentence: \")\n"
      ],
      "metadata": {
        "colab": {
          "base_uri": "https://localhost:8080/"
        },
        "id": "mRYes61VCfZp",
        "outputId": "bb19f090-bd73-4d5b-e82b-30a3237899dc"
      },
      "execution_count": 115,
      "outputs": [
        {
          "name": "stdout",
          "output_type": "stream",
          "text": [
            "Enter a sentence: Sorry for the wait I still love you\n"
          ]
        }
      ]
    },
    {
      "cell_type": "code",
      "source": [
        "#user_vector = np.array(embed([user_input]))[0]"
      ],
      "metadata": {
        "id": "3eM8A1GHTSBo"
      },
      "execution_count": 83,
      "outputs": []
    },
    {
      "cell_type": "code",
      "source": [
        "#print(user_vector[:5])\n"
      ],
      "metadata": {
        "colab": {
          "base_uri": "https://localhost:8080/"
        },
        "id": "CKkFn4FwPlUV",
        "outputId": "5b1203aa-1792-42a8-9f52-aca9e041202d"
      },
      "execution_count": 84,
      "outputs": [
        {
          "output_type": "stream",
          "name": "stdout",
          "text": [
            "[ 0.02593599 -0.03465135  0.04637015 -0.03938139 -0.00286358]\n"
          ]
        }
      ]
    },
    {
      "cell_type": "code",
      "source": [
        "#print(user_vector.shape)"
      ],
      "metadata": {
        "colab": {
          "base_uri": "https://localhost:8080/"
        },
        "id": "BZF0yHZLQV62",
        "outputId": "d0b90e13-87e5-42ed-8680-2a053e8870cb"
      },
      "execution_count": 85,
      "outputs": [
        {
          "output_type": "stream",
          "name": "stdout",
          "text": [
            "(512,)\n"
          ]
        }
      ]
    },
    {
      "cell_type": "code",
      "source": [
        "# Compute the cosine similarity between the user's input vector and all joke vectors in the similarity matrix.\n",
        "#user_similarities = cosine_similarity([user_vector], joke_vectors_array)[0]\n"
      ],
      "metadata": {
        "id": "8KJyhDESLgD1"
      },
      "execution_count": 86,
      "outputs": []
    },
    {
      "cell_type": "code",
      "source": [
        "#user_input_vector = embed([user_input])[0]"
      ],
      "metadata": {
        "id": "Gig-OHrZKsKt"
      },
      "execution_count": 87,
      "outputs": []
    },
    {
      "cell_type": "code",
      "source": [
        "#print(joke_vectors_array.shape)\n"
      ],
      "metadata": {
        "colab": {
          "base_uri": "https://localhost:8080/"
        },
        "id": "MRyY5rLSP0j_",
        "outputId": "83e6cce9-9b39-45c9-96c7-dbe6aba56464"
      },
      "execution_count": 88,
      "outputs": [
        {
          "output_type": "stream",
          "name": "stdout",
          "text": [
            "(231657, 512)\n"
          ]
        }
      ]
    },
    {
      "cell_type": "code",
      "source": [
        "# Get user input\n",
        "#user_input = input(\"Enter a joke: \")\n"
      ],
      "metadata": {
        "id": "rwNy9OxTKvM3"
      },
      "execution_count": 89,
      "outputs": []
    },
    {
      "cell_type": "code",
      "source": [
        "user_input_vector = embed([user_input])[0].numpy()\n",
        "similarity_scores = cosine_similarity(user_input_vector.reshape(1, -1), joke_vectors_array)"
      ],
      "metadata": {
        "id": "589IP62ESwI6"
      },
      "execution_count": 116,
      "outputs": []
    },
    {
      "cell_type": "code",
      "source": [
        "# Get the number of jokes to recommend from the user\n",
        "num_jokes = int(input(\"How many jokes would you like to see? \"))"
      ],
      "metadata": {
        "colab": {
          "base_uri": "https://localhost:8080/"
        },
        "id": "MKYHLvOHLd2G",
        "outputId": "0082e9ea-5bb9-44f4-b719-844db96b50aa"
      },
      "execution_count": 117,
      "outputs": [
        {
          "name": "stdout",
          "output_type": "stream",
          "text": [
            "How many jokes would you like to see? 3\n"
          ]
        }
      ]
    },
    {
      "cell_type": "code",
      "source": [
        "# Get the top-n jokes with the highest similarity scores\n",
        "top_indices = np.argsort(similarity_scores, axis=1)[:, ::-1][:, :num_jokes].ravel()"
      ],
      "metadata": {
        "id": "PtQdK37aWrxx"
      },
      "execution_count": 118,
      "outputs": []
    },
    {
      "cell_type": "code",
      "source": [
        "top_jokes = [jokes_df.iloc[i] for i in top_indices]"
      ],
      "metadata": {
        "id": "xvL8KrZXXUzq"
      },
      "execution_count": 119,
      "outputs": []
    },
    {
      "cell_type": "code",
      "source": [
        "# Print the top-n jokes\n",
        "print(f\"Top {num_jokes} jokes:\")\n",
        "for i, joke in enumerate(top_jokes):\n",
        "    print(f\"{i+1}. {joke['Joke']}\")"
      ],
      "metadata": {
        "colab": {
          "base_uri": "https://localhost:8080/"
        },
        "id": "0ot6TR0BXxVB",
        "outputId": "c9a60e0e-3cd0-420e-df89-e371a144005f"
      },
      "execution_count": 120,
      "outputs": [
        {
          "output_type": "stream",
          "name": "stdout",
          "text": [
            "Top 3 jokes:\n",
            "1. Sorry, I'm out of my mind at the moment, please leave a message and I'll get back to you as soon as possible. \n",
            "2. Sorry, just got your text. Are we still on for last night?\n",
            "3. I'm sorry I can't go out tonight because of the internet.\n"
          ]
        }
      ]
    },
    {
      "cell_type": "code",
      "source": [],
      "metadata": {
        "id": "-DiAA-WGbTWe"
      },
      "execution_count": null,
      "outputs": []
    }
  ]
}